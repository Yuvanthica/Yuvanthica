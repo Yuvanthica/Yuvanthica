{
 "cells": [
  {
   "cell_type": "code",
   "execution_count": 9,
   "metadata": {},
   "outputs": [
    {
     "name": "stdout",
     "output_type": "stream",
     "text": [
      "Requirement already satisfied: selenium in c:\\users\\prasanna\\anaconda3\\lib\\site-packages (3.141.0)\n",
      "Requirement already satisfied: urllib3 in c:\\users\\prasanna\\anaconda3\\lib\\site-packages (from selenium) (1.26.4)\n"
     ]
    }
   ],
   "source": [
    "!pip install selenium"
   ]
  },
  {
   "cell_type": "code",
   "execution_count": 10,
   "metadata": {},
   "outputs": [
    {
     "name": "stdout",
     "output_type": "stream",
     "text": [
      "Requirement already satisfied: webdriver-manager in c:\\users\\prasanna\\anaconda3\\lib\\site-packages (3.5.2)\n",
      "Requirement already satisfied: crayons in c:\\users\\prasanna\\anaconda3\\lib\\site-packages (from webdriver-manager) (0.4.0)\n",
      "Requirement already satisfied: requests in c:\\users\\prasanna\\anaconda3\\lib\\site-packages (from webdriver-manager) (2.26.0)\n",
      "Requirement already satisfied: configparser in c:\\users\\prasanna\\anaconda3\\lib\\site-packages (from webdriver-manager) (5.2.0)\n",
      "Requirement already satisfied: colorama in c:\\users\\prasanna\\anaconda3\\lib\\site-packages (from crayons->webdriver-manager) (0.4.4)\n",
      "Requirement already satisfied: urllib3<1.27,>=1.21.1 in c:\\users\\prasanna\\anaconda3\\lib\\site-packages (from requests->webdriver-manager) (1.26.4)\n",
      "Requirement already satisfied: idna<4,>=2.5 in c:\\users\\prasanna\\anaconda3\\lib\\site-packages (from requests->webdriver-manager) (2.10)\n",
      "Requirement already satisfied: certifi>=2017.4.17 in c:\\users\\prasanna\\anaconda3\\lib\\site-packages (from requests->webdriver-manager) (2021.10.8)\n",
      "Requirement already satisfied: charset-normalizer~=2.0.0 in c:\\users\\prasanna\\anaconda3\\lib\\site-packages (from requests->webdriver-manager) (2.0.7)\n"
     ]
    }
   ],
   "source": [
    "!pip install webdriver-manager"
   ]
  },
  {
   "cell_type": "code",
   "execution_count": 11,
   "metadata": {},
   "outputs": [],
   "source": [
    "from selenium import webdriver\n",
    "#from BeautifulSoup import BeautifulSoup\n",
    "from bs4 import BeautifulSoup\n",
    "import pandas as pd\n",
    "from webdriver_manager.chrome import ChromeDriverManager"
   ]
  },
  {
   "cell_type": "code",
   "execution_count": 12,
   "metadata": {},
   "outputs": [
    {
     "name": "stderr",
     "output_type": "stream",
     "text": [
      "\n",
      "\n",
      "====== WebDriver manager ======\n",
      "Current google-chrome version is 96.0.4664\n",
      "Get LATEST chromedriver version for 96.0.4664 google-chrome\n",
      "Driver [C:\\Users\\Prasanna\\.wdm\\drivers\\chromedriver\\win32\\96.0.4664.45\\chromedriver.exe] found in cache\n"
     ]
    }
   ],
   "source": [
    "#driver = webdriver.Chrome(\"/usr/lib/chromium-browser/chromedriver\")\n",
    "driver = webdriver.Chrome(ChromeDriverManager().install())"
   ]
  },
  {
   "cell_type": "code",
   "execution_count": 13,
   "metadata": {},
   "outputs": [],
   "source": [
    "driver.get(\"https://www.boxingnews24.com\")"
   ]
  },
  {
   "cell_type": "code",
   "execution_count": 14,
   "metadata": {},
   "outputs": [],
   "source": [
    "import requests"
   ]
  },
  {
   "cell_type": "code",
   "execution_count": 15,
   "metadata": {},
   "outputs": [],
   "source": [
    "url = \"https://www.boxingnews24.com\"\n",
    "r1 = requests.get(url)\n",
    "coverpage = r1.content"
   ]
  },
  {
   "cell_type": "code",
   "execution_count": 16,
   "metadata": {},
   "outputs": [],
   "source": [
    "soup1 = BeautifulSoup(coverpage, 'html5lib')"
   ]
  },
  {
   "cell_type": "code",
   "execution_count": 17,
   "metadata": {},
   "outputs": [],
   "source": [
    "coverpage_news = soup1.find_all('div', {'class': 'art-PostContent'})"
   ]
  },
  {
   "cell_type": "code",
   "execution_count": 18,
   "metadata": {},
   "outputs": [
    {
     "data": {
      "text/plain": [
       "'https://www.boxingnews24.com/2022/01/ibf-orders-luis-ortiz-vs-filip-hrgovic-title-eliminator/'"
      ]
     },
     "execution_count": 18,
     "metadata": {},
     "output_type": "execute_result"
    }
   ],
   "source": [
    "coverpage_news[0].find('a')['href']"
   ]
  },
  {
   "cell_type": "code",
   "execution_count": 19,
   "metadata": {},
   "outputs": [
    {
     "data": {
      "text/plain": [
       "<div class=\"art-PostContent\">\n",
       "<p>By <strong>Jim Calfa:</strong> The IBF has ordered a final heavyweight title eliminator between Filip ‘El Animal’ Hrgovic and Luis ‘King Kong’ Ortiz to determine a … <a class=\"read-more\" href=\"https://www.boxingnews24.com/2022/01/ibf-orders-luis-ortiz-vs-filip-hrgovic-title-eliminator/\">read full story ← </a></p>\n",
       "</div>"
      ]
     },
     "execution_count": 19,
     "metadata": {},
     "output_type": "execute_result"
    }
   ],
   "source": [
    "coverpage_news[0]"
   ]
  },
  {
   "cell_type": "code",
   "execution_count": 20,
   "metadata": {},
   "outputs": [],
   "source": [
    "keyword = \"Isaac\"\n",
    "final_articles = []\n",
    "title = []\n",
    "links = []\n",
    "date = []"
   ]
  },
  {
   "cell_type": "code",
   "execution_count": 21,
   "metadata": {},
   "outputs": [
    {
     "data": {
      "text/plain": [
       "[<div class=\"art-PostContent\">\n",
       " <p>By <strong>Dan Ambrose:</strong> Golden Boy Promotions CEO Oscar De La Hoya sent a message to Isaac ‘Pitbull’ Cruz on Monday telling him that he has … <a class=\"read-more\" href=\"https://www.boxingnews24.com/2022/01/e-la-hoya-tells-isaac-cruz-hes-sent-offer-for-ryan-garcia-fight/\">read full story ← </a></p>\n",
       " </div>,\n",
       " <div class=\"art-PostContent\">\n",
       " <p>By <strong>Sean Jones:</strong> Leo Santa Cruz says Isaac ‘Pitbull’ Cruz deserves a rematch with Gervonta ‘Tank’ Davis after losing a controversial 12 round unanimous decision … <a class=\"read-more\" href=\"https://www.boxingnews24.com/2022/01/leo-santa-cruz-says-issac-cruz-deserves-rematch-with-gervonta-davis/\">read full story ← </a></p>\n",
       " </div>]"
      ]
     },
     "execution_count": 21,
     "metadata": {},
     "output_type": "execute_result"
    }
   ],
   "source": [
    "for i in range(len(coverpage_news)):\n",
    "    if keyword in coverpage_news[i].get_text() or keyword in coverpage_news[i].find('a')['href']:\n",
    "        final_articles.append(coverpage_news[i])\n",
    "        \n",
    "final_articles"
   ]
  },
  {
   "cell_type": "code",
   "execution_count": 22,
   "metadata": {},
   "outputs": [],
   "source": [
    "i = 1\n",
    "url_ = final_articles[i].find('a')['href']\n",
    "r = requests.get(url_)\n",
    "cover_page = r.content\n",
    "soup1 = BeautifulSoup(cover_page, 'html5lib')\n",
    "coverpagenews1 = soup1.find_all('h2', {'class': 'art-PostHeaderIcon-wrapper'})\n",
    "coverpagenews2 = soup1.find_all('div', {'class': 'art-PostFooterIcons art-metadata-icons'})\n",
    "temp = coverpagenews2[i].get_text().split(\"-\")\n",
    "\n",
    "#title.append([coverpagenews1[0].get_text()])\n",
    "#links.append([final_articles[i].find('a')['href']])\n",
    "#date.append([temp[0]])"
   ]
  },
  {
   "cell_type": "code",
   "execution_count": 23,
   "metadata": {},
   "outputs": [
    {
     "ename": "IndexError",
     "evalue": "list index out of range",
     "output_type": "error",
     "traceback": [
      "\u001b[1;31m---------------------------------------------------------------------------\u001b[0m",
      "\u001b[1;31mIndexError\u001b[0m                                Traceback (most recent call last)",
      "\u001b[1;32m<ipython-input-23-37e119ef8bc0>\u001b[0m in \u001b[0;36m<module>\u001b[1;34m\u001b[0m\n\u001b[0;32m      6\u001b[0m     \u001b[0mcoverpagenews1\u001b[0m \u001b[1;33m=\u001b[0m \u001b[0msoup1\u001b[0m\u001b[1;33m.\u001b[0m\u001b[0mfind_all\u001b[0m\u001b[1;33m(\u001b[0m\u001b[1;34m'h2'\u001b[0m\u001b[1;33m,\u001b[0m \u001b[1;33m{\u001b[0m\u001b[1;34m'class'\u001b[0m\u001b[1;33m:\u001b[0m \u001b[1;34m'art-PostHeaderIcon-wrapper'\u001b[0m\u001b[1;33m}\u001b[0m\u001b[1;33m)\u001b[0m\u001b[1;33m\u001b[0m\u001b[1;33m\u001b[0m\u001b[0m\n\u001b[0;32m      7\u001b[0m     \u001b[0mcoverpagenews2\u001b[0m \u001b[1;33m=\u001b[0m \u001b[0msoup1\u001b[0m\u001b[1;33m.\u001b[0m\u001b[0mfind_all\u001b[0m\u001b[1;33m(\u001b[0m\u001b[1;34m'div'\u001b[0m\u001b[1;33m,\u001b[0m \u001b[1;33m{\u001b[0m\u001b[1;34m'class'\u001b[0m\u001b[1;33m:\u001b[0m \u001b[1;34m'art-PostFooterIcons art-metadata-icons'\u001b[0m\u001b[1;33m}\u001b[0m\u001b[1;33m)\u001b[0m\u001b[1;33m\u001b[0m\u001b[1;33m\u001b[0m\u001b[0m\n\u001b[1;32m----> 8\u001b[1;33m     \u001b[0mtemp\u001b[0m \u001b[1;33m=\u001b[0m \u001b[0mcoverpagenews2\u001b[0m\u001b[1;33m[\u001b[0m\u001b[1;36m0\u001b[0m\u001b[1;33m]\u001b[0m\u001b[1;33m.\u001b[0m\u001b[0mget_text\u001b[0m\u001b[1;33m(\u001b[0m\u001b[1;33m)\u001b[0m\u001b[1;33m.\u001b[0m\u001b[0msplit\u001b[0m\u001b[1;33m(\u001b[0m\u001b[1;34m\"-\"\u001b[0m\u001b[1;33m)\u001b[0m\u001b[1;33m\u001b[0m\u001b[1;33m\u001b[0m\u001b[0m\n\u001b[0m\u001b[0;32m      9\u001b[0m \u001b[1;33m\u001b[0m\u001b[0m\n\u001b[0;32m     10\u001b[0m     \u001b[0mtitle\u001b[0m\u001b[1;33m.\u001b[0m\u001b[0mappend\u001b[0m\u001b[1;33m(\u001b[0m\u001b[0mcoverpagenews1\u001b[0m\u001b[1;33m[\u001b[0m\u001b[1;36m0\u001b[0m\u001b[1;33m]\u001b[0m\u001b[1;33m.\u001b[0m\u001b[0mget_text\u001b[0m\u001b[1;33m(\u001b[0m\u001b[1;33m)\u001b[0m\u001b[1;33m)\u001b[0m\u001b[1;33m\u001b[0m\u001b[1;33m\u001b[0m\u001b[0m\n",
      "\u001b[1;31mIndexError\u001b[0m: list index out of range"
     ]
    }
   ],
   "source": [
    "for i in range(len(final_articles)):\n",
    "    url_ = final_articles[i].find('a')['href']\n",
    "    r = requests.get(url_)\n",
    "    cover_page = r.content\n",
    "    soup1 = BeautifulSoup(cover_page, 'html5lib')\n",
    "    coverpagenews1 = soup1.find_all('h2', {'class': 'art-PostHeaderIcon-wrapper'})\n",
    "    coverpagenews2 = soup1.find_all('div', {'class': 'art-PostFooterIcons art-metadata-icons'})\n",
    "    temp = coverpagenews2[0].get_text().split(\"-\")\n",
    "    \n",
    "    title.append(coverpagenews1[0].get_text())\n",
    "    links.append(final_articles[i].find('a')['href'])\n",
    "    date.append(temp[0])"
   ]
  },
  {
   "cell_type": "code",
   "execution_count": null,
   "metadata": {},
   "outputs": [],
   "source": [
    "title"
   ]
  },
  {
   "cell_type": "code",
   "execution_count": null,
   "metadata": {},
   "outputs": [],
   "source": [
    "links"
   ]
  },
  {
   "cell_type": "code",
   "execution_count": null,
   "metadata": {},
   "outputs": [],
   "source": [
    "date"
   ]
  },
  {
   "cell_type": "code",
   "execution_count": null,
   "metadata": {},
   "outputs": [],
   "source": [
    "for i in range(len(title)):\n",
    "    title[i] = title[i].replace('\\n', \"\")\n",
    "    title[i] = title[i].rstrip()\n",
    "    date[i] = date[i].replace('\\n', \"\")\n",
    "    date[i] = date[i].rstrip()"
   ]
  },
  {
   "cell_type": "code",
   "execution_count": null,
   "metadata": {},
   "outputs": [],
   "source": [
    "dict = {'Title': title, 'Link': links, 'Date': date} \n",
    "df = pd.DataFrame(dict) \n",
    "df.to_csv('data_list.csv')"
   ]
  },
  {
   "cell_type": "code",
   "execution_count": null,
   "metadata": {},
   "outputs": [],
   "source": []
  }
 ],
 "metadata": {
  "kernelspec": {
   "display_name": "Python 3",
   "language": "python",
   "name": "python3"
  },
  "language_info": {
   "codemirror_mode": {
    "name": "ipython",
    "version": 3
   },
   "file_extension": ".py",
   "mimetype": "text/x-python",
   "name": "python",
   "nbconvert_exporter": "python",
   "pygments_lexer": "ipython3",
   "version": "3.8.8"
  }
 },
 "nbformat": 4,
 "nbformat_minor": 4
}
